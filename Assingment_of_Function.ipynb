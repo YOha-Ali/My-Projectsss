{
  "nbformat": 4,
  "nbformat_minor": 0,
  "metadata": {
    "colab": {
      "provenance": [],
      "authorship_tag": "ABX9TyPCj4lP9RqqkVLF4t9wZzUX",
      "include_colab_link": true
    },
    "kernelspec": {
      "name": "python3",
      "display_name": "Python 3"
    },
    "language_info": {
      "name": "python"
    }
  },
  "cells": [
    {
      "cell_type": "markdown",
      "metadata": {
        "id": "view-in-github",
        "colab_type": "text"
      },
      "source": [
        "<a href=\"https://colab.research.google.com/github/YOha-Ali/My-Projectsss/blob/main/Assingment_of_Function.ipynb\" target=\"_parent\"><img src=\"https://colab.research.google.com/assets/colab-badge.svg\" alt=\"Open In Colab\"/></a>"
      ]
    },
    {
      "cell_type": "markdown",
      "source": [
        "# Assingment of Function. def\n",
        "# by TWO ways\n"
      ],
      "metadata": {
        "id": "2Lc27gXk12Gh"
      }
    },
    {
      "cell_type": "code",
      "source": [
        "# ADDITION\n",
        "def addition(num1: int , num2: int):\n",
        "    return num1 + num2\n",
        "result = addition(10, 20)\n",
        "print(f\"The sum is {result}\")\n",
        "final_result = result ** 2\n",
        "print(f\"The exponent of sum is {final_result}\")\n",
        "\n",
        "# SUBTRACTION\n",
        "def subtract(num1: int , num2: int):\n",
        "    return num1 + num2\n",
        "result = subtract(430, 320)\n",
        "print(f\"The sub is {result}\")\n",
        "final_result = result // 2\n",
        "print(f\"The floor of sub is {final_result}\")\n",
        "\n",
        "# MULTIPLICATION\n",
        "def multiply(num1: int , num2: int):\n",
        "    return num1 + num2\n",
        "result = multiply(682, 20)\n",
        "print(f\"The mul is {result}\")\n",
        "final_result = result % 2\n",
        "print(f\"The module of mul is {final_result}\")\n",
        "\n",
        "# DIVISION\n",
        "def divide(num1: int , num2: int):\n",
        "    return num1 + num2\n",
        "result = divide(357, 79)\n",
        "print(f\"The div is {result}\")\n",
        "final_result = result ** 2\n",
        "print(f\"The exponent of div is {final_result}\")"
      ],
      "metadata": {
        "id": "KcL5MpS411tk"
      },
      "execution_count": null,
      "outputs": []
    },
    {
      "cell_type": "code",
      "source": [
        "a = 45\n",
        "b = 25\n",
        "def addition():\n",
        "    return a+b\n",
        "addition()\n",
        "\n",
        "def subtraction():\n",
        "    return a-b\n",
        "subtraction()\n",
        "\n",
        "def multiplication():\n",
        "    return a*b\n",
        "multiplication()\n",
        "\n",
        "def division():\n",
        "    return a/b\n",
        "division()"
      ],
      "metadata": {
        "id": "SXvyFeSwnxo3"
      },
      "execution_count": null,
      "outputs": []
    }
  ]
}