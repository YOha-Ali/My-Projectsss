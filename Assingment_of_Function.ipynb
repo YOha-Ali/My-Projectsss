{
  "nbformat": 4,
  "nbformat_minor": 0,
  "metadata": {
    "colab": {
      "provenance": [],
      "authorship_tag": "ABX9TyOKIzS152QUZ9w9Dfh7OUq3",
      "include_colab_link": true
    },
    "kernelspec": {
      "name": "python3",
      "display_name": "Python 3"
    },
    "language_info": {
      "name": "python"
    }
  },
  "cells": [
    {
      "cell_type": "markdown",
      "metadata": {
        "id": "view-in-github",
        "colab_type": "text"
      },
      "source": [
        "<a href=\"https://colab.research.google.com/github/YOha-Ali/My-Projectsss/blob/main/Assingment_of_Function.ipynb\" target=\"_parent\"><img src=\"https://colab.research.google.com/assets/colab-badge.svg\" alt=\"Open In Colab\"/></a>"
      ]
    },
    {
      "cell_type": "markdown",
      "source": [
        "# Assingment of Function. def"
      ],
      "metadata": {
        "id": "2Lc27gXk12Gh"
      }
    },
    {
      "cell_type": "code",
      "source": [
        "# ADDITION\n",
        "def addition(num1: int , num2: int):\n",
        "    return num1 + num2\n",
        "result = addition(10, 20)\n",
        "print(f\"The sum is {result}\")\n",
        "final_result = result ** 2\n",
        "print(f\"The exponent of sum is {final_result}\")\n",
        "\n",
        "# SUBTRACTION\n",
        "def subtract(num1: int , num2: int):\n",
        "    return num1 + num2\n",
        "result = subtract(430, 320)\n",
        "print(f\"The sub is {result}\")\n",
        "final_result = result // 2\n",
        "print(f\"The floor of sub is {final_result}\")\n",
        "\n",
        "# MULTIPLICATION\n",
        "def multiply(num1: int , num2: int):\n",
        "    return num1 + num2\n",
        "result = multiply(682, 20)\n",
        "print(f\"The mul is {result}\")\n",
        "final_result = result % 2\n",
        "print(f\"The module of mul is {final_result}\")\n",
        "\n",
        "# DIVISION\n",
        "def divide(num1: int , num2: int):\n",
        "    return num1 + num2\n",
        "result = divide(357, 79)\n",
        "print(f\"The div is {result}\")\n",
        "final_result = result ** 2\n",
        "print(f\"The exponent of div is {final_result}\")"
      ],
      "metadata": {
        "id": "KcL5MpS411tk"
      },
      "execution_count": null,
      "outputs": []
    }
  ]
}