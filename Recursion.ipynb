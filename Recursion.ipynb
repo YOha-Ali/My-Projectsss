{
  "nbformat": 4,
  "nbformat_minor": 0,
  "metadata": {
    "colab": {
      "provenance": [],
      "authorship_tag": "ABX9TyM6yYwh4gPQL/YGMg/gXzgZ",
      "include_colab_link": true
    },
    "kernelspec": {
      "name": "python3",
      "display_name": "Python 3"
    },
    "language_info": {
      "name": "python"
    }
  },
  "cells": [
    {
      "cell_type": "markdown",
      "metadata": {
        "id": "view-in-github",
        "colab_type": "text"
      },
      "source": [
        "<a href=\"https://colab.research.google.com/github/YOha-Ali/My-Projectsss/blob/main/Recursion.ipynb\" target=\"_parent\"><img src=\"https://colab.research.google.com/assets/colab-badge.svg\" alt=\"Open In Colab\"/></a>"
      ]
    },
    {
      "cell_type": "markdown",
      "source": [
        "# _____Count Down By Recursive_____"
      ],
      "metadata": {
        "id": "tA_4yJ1CHOXd"
      }
    },
    {
      "cell_type": "code",
      "execution_count": null,
      "metadata": {
        "id": "p3aBpS8ZHJgc"
      },
      "outputs": [],
      "source": [
        "import time\n",
        "\n",
        "print(\"Count Down Start...\")\n",
        "def count_down(num: int):\n",
        "    if num <= 0:\n",
        "        print(\"Ramadan Kareem Mubarak 😍🤩🥰.\")\n",
        "    else:\n",
        "        print(f\"{num}...\")\n",
        "        time.sleep(1)\n",
        "        count_down(num - 1)\n",
        "\n",
        "count_down(10)"
      ]
    }
  ]
}