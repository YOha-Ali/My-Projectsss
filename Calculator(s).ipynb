{
  "nbformat": 4,
  "nbformat_minor": 0,
  "metadata": {
    "colab": {
      "provenance": [],
      "authorship_tag": "ABX9TyP+sGKSrUChGDDVLir1b/Nb",
      "include_colab_link": true
    },
    "kernelspec": {
      "name": "python3",
      "display_name": "Python 3"
    },
    "language_info": {
      "name": "python"
    }
  },
  "cells": [
    {
      "cell_type": "markdown",
      "metadata": {
        "id": "view-in-github",
        "colab_type": "text"
      },
      "source": [
        "<a href=\"https://colab.research.google.com/github/YOha-Ali/My-Projectsss/blob/main/Calculator(s).ipynb\" target=\"_parent\"><img src=\"https://colab.research.google.com/assets/colab-badge.svg\" alt=\"Open In Colab\"/></a>"
      ]
    },
    {
      "cell_type": "markdown",
      "source": [
        "# Calculator 1, Our Choice."
      ],
      "metadata": {
        "id": "kHnsOEFqQA0N"
      }
    },
    {
      "cell_type": "code",
      "execution_count": null,
      "metadata": {
        "id": "PTF45ulmOho3"
      },
      "outputs": [],
      "source": [
        "num1 = int(input(\"Enter a First number: \"))\n",
        "num2 = int(input(\"Enter a second number: \"))\n",
        "operation = input(\"Choose your operaton: \\n'addition'\\n'subtract'\\n'multiply'\\n'divide':\\n \")\n",
        "\n",
        "def calculator(num1, num2, opeartion):\n",
        "    if operation == 'addition':\n",
        "        return num1 + num2\n",
        "    elif operation == 'subtract':\n",
        "        return num1 - num2\n",
        "    elif operation == 'multiply':\n",
        "        return num1 * num2\n",
        "    elif operation == 'divide':\n",
        "        return num1 / num2\n",
        "    else:\n",
        "        return \"Invalid Operation\"\n",
        "print(calculator(num1, num2, operation))"
      ]
    },
    {
      "cell_type": "markdown",
      "source": [
        "#Calculator 2...."
      ],
      "metadata": {
        "id": "v5YY8iq9QLxb"
      }
    },
    {
      "cell_type": "code",
      "source": [
        "def calculator(a, b, operator):\n",
        "    if operator == \"+\" :\n",
        "        return a + b\n",
        "    elif operator == \"-\" :\n",
        "        return a - b\n",
        "    elif operator == \"*\" :\n",
        "        return a * b\n",
        "    elif operator == \"/\" :\n",
        "        return a / b\n",
        "    else:\n",
        "        return \"Invalid Operation\"\n",
        "print(\"The Addition of\" calculator(100, 200, \"+\"))\n",
        "print(\"The Subtraction is\", calculator(400, 300, \"-\"))\n",
        "print(\"The Multiplication is\", calculator(700, 800, \"*\"))\n",
        "print(\"The Division is\", calculator(500, 650, \"/\"))"
      ],
      "metadata": {
        "id": "sTC9EUdgQPcS"
      },
      "execution_count": null,
      "outputs": []
    }
  ]
}