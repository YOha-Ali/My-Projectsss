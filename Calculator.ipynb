{
  "nbformat": 4,
  "nbformat_minor": 0,
  "metadata": {
    "colab": {
      "provenance": [],
      "authorship_tag": "ABX9TyNyl77pbeTvs0M04ygYJjhk",
      "include_colab_link": true
    },
    "kernelspec": {
      "name": "python3",
      "display_name": "Python 3"
    },
    "language_info": {
      "name": "python"
    }
  },
  "cells": [
    {
      "cell_type": "markdown",
      "metadata": {
        "id": "view-in-github",
        "colab_type": "text"
      },
      "source": [
        "<a href=\"https://colab.research.google.com/github/YOha-Ali/My-Projectsss/blob/main/Calculator.ipynb\" target=\"_parent\"><img src=\"https://colab.research.google.com/assets/colab-badge.svg\" alt=\"Open In Colab\"/></a>"
      ]
    },
    {
      "cell_type": "code",
      "execution_count": null,
      "metadata": {
        "id": "PTF45ulmOho3"
      },
      "outputs": [],
      "source": [
        "num1 = int(input(\"Enter a First number: \"))\n",
        "num2 = int(input(\"Enter a second number: \"))\n",
        "operation = input(\"Choose your operaton: \\n'addition'\\n'subtract'\\n'multiply'\\n'divide':\\n \")\n",
        "\n",
        "def calculator(num1, num2, opeartion):\n",
        "    if operation == 'addition':\n",
        "        return num1 + num2\n",
        "    elif operation == 'subtract':\n",
        "        return num1 - num2\n",
        "    elif operation == 'multiply':\n",
        "        return num1 * num2\n",
        "    elif operation == 'divide':\n",
        "        return num1 / num2\n",
        "    else:\n",
        "        return \"Invalid Operation\"\n",
        "print(calculator(num1, num2, operation))"
      ]
    }
  ]
}