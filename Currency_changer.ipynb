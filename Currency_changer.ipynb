{
  "nbformat": 4,
  "nbformat_minor": 0,
  "metadata": {
    "colab": {
      "provenance": [],
      "authorship_tag": "ABX9TyMhKuSVxB3VhjotMBywN60o",
      "include_colab_link": true
    },
    "kernelspec": {
      "name": "python3",
      "display_name": "Python 3"
    },
    "language_info": {
      "name": "python"
    }
  },
  "cells": [
    {
      "cell_type": "markdown",
      "metadata": {
        "id": "view-in-github",
        "colab_type": "text"
      },
      "source": [
        "<a href=\"https://colab.research.google.com/github/YOha-Ali/My-Projectsss/blob/main/Currency_changer.ipynb\" target=\"_parent\"><img src=\"https://colab.research.google.com/assets/colab-badge.svg\" alt=\"Open In Colab\"/></a>"
      ]
    },
    {
      "cell_type": "markdown",
      "source": [
        "USD Dollars to PKR Rupee... Method 1..."
      ],
      "metadata": {
        "id": "VigKLMJBf8A-"
      }
    },
    {
      "cell_type": "code",
      "execution_count": null,
      "metadata": {
        "id": "MTgskDPTdbeg"
      },
      "outputs": [],
      "source": [
        "# WAF to convert USD in PKR\n",
        "\n",
        "def converter(usd_value):\n",
        "    pkr = usd_value * 279.63\n",
        "    print(f\"{usd_value} USD = {pkr} PKR\")\n",
        "converter(250)"
      ]
    },
    {
      "cell_type": "markdown",
      "source": [
        "Euro to PKR... Method 2..."
      ],
      "metadata": {
        "id": "YGFkIerogD6O"
      }
    },
    {
      "cell_type": "code",
      "source": [
        "euro_value = float(input(\"Enter a Euro Currency: \"))\n",
        "def converter():\n",
        "  pkr = euro_value * 288.08\n",
        "  print(f\"{euro_value} EURO = {pkr} PKR\")\n",
        "converter()"
      ],
      "metadata": {
        "id": "5hS7c67NdjTs"
      },
      "execution_count": null,
      "outputs": []
    },
    {
      "cell_type": "markdown",
      "source": [
        "Dirham to PKR... Method 3..."
      ],
      "metadata": {
        "id": "EGOpvulFgG7o"
      }
    },
    {
      "cell_type": "code",
      "source": [
        "dirham_currency = float(input(\"Enter a Dirham Currency: \"))\n",
        "pkr = dirham_currency * 75.97\n",
        "print(f\"{dirham_currency} Dirham = {pkr} PKR\")"
      ],
      "metadata": {
        "id": "OHFG7lDMdmbh"
      },
      "execution_count": null,
      "outputs": []
    }
  ]
}