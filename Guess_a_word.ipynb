{
  "nbformat": 4,
  "nbformat_minor": 0,
  "metadata": {
    "colab": {
      "provenance": [],
      "authorship_tag": "ABX9TyNzdRBX1+V5fGgETNW/GwRX",
      "include_colab_link": true
    },
    "kernelspec": {
      "name": "python3",
      "display_name": "Python 3"
    },
    "language_info": {
      "name": "python"
    }
  },
  "cells": [
    {
      "cell_type": "markdown",
      "metadata": {
        "id": "view-in-github",
        "colab_type": "text"
      },
      "source": [
        "<a href=\"https://colab.research.google.com/github/YOha-Ali/My-Projectsss/blob/main/Guess_a_word.ipynb\" target=\"_parent\"><img src=\"https://colab.research.google.com/assets/colab-badge.svg\" alt=\"Open In Colab\"/></a>"
      ]
    },
    {
      "cell_type": "markdown",
      "source": [
        "# Guess a Word..."
      ],
      "metadata": {
        "id": "3YSvE3HfwEc1"
      }
    },
    {
      "cell_type": "code",
      "source": [
        "import random\n",
        "\n",
        "words =[\"python\", \"snake\", \"program\", \"run\", \"mutable\"]\n",
        "word = random.choice(words)\n",
        "\n",
        "name = input(\"What's your name: \")\n",
        "print(\"Best of Luck\", name)\n",
        "\n",
        "print(\"Guess the character: 'python', 'snake', 'program', 'run', 'mutable' \")\n",
        "\n",
        "guesses = \"\"\n",
        "turns = 5\n",
        "\n",
        "while turns > 0:\n",
        "    fail = 0\n",
        "\n",
        "    for char in word:\n",
        "        if char in guesses:\n",
        "            print(char, end=\" \")\n",
        "        else:\n",
        "            print(\"_\", end=\" \")\n",
        "            fail += 1\n",
        "    print()\n",
        "\n",
        "    if fail == 0:\n",
        "        print(\"You Won.\\nThe word is:\", word)\n",
        "        break\n",
        "\n",
        "    guess = input(\"Guess a character: \")\n",
        "    guesses += guess\n",
        "\n",
        "    if guess not in word:\n",
        "        turns -= 1\n",
        "        print(\"Wrong!!!\\nYou have\", turns, \"more guesses.\")\n",
        "\n",
        "    if turns == 0:\n",
        "        print(\"You Lost\")"
      ],
      "metadata": {
        "id": "qGpWT6SBwLD1"
      },
      "execution_count": null,
      "outputs": []
    }
  ]
}